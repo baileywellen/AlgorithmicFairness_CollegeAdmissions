{
 "cells": [
  {
   "cell_type": "markdown",
   "metadata": {
    "id": "oYDfUKN95cUd"
   },
   "source": [
    "## Setup"
   ]
  },
  {
   "cell_type": "code",
   "execution_count": 2,
   "metadata": {
    "id": "6vVpeo0S5ZWZ"
   },
   "outputs": [
    {
     "name": "stderr",
     "output_type": "stream",
     "text": [
      "/var/folders/1t/tk4g_g3d3ldg2yplx8s7_tk80000gq/T/ipykernel_23881/3320799386.py:5: DeprecationWarning: module 'sre_constants' is deprecated\n",
      "  from sre_constants import JUMP\n"
     ]
    }
   ],
   "source": [
    "import pandas as pd\n",
    "import random\n",
    "import numpy as np\n",
    "from matplotlib import pyplot as plt\n",
    "from sre_constants import JUMP\n",
    "import time"
   ]
  },
  {
   "cell_type": "markdown",
   "metadata": {
    "id": "LqZRQ-Npblki"
   },
   "source": [
    "## Part 1"
   ]
  },
  {
   "cell_type": "code",
   "execution_count": 3,
   "metadata": {
    "id": "46ikPVwE_-we"
   },
   "outputs": [],
   "source": [
    "# Function to generate initial data\n",
    "def genDf_prev():\n",
    "  data = []\n",
    "  for appNumber in range(100):\n",
    "    # Determine what the characteristics of the applicant are\n",
    "    x1Rng = random.random()\n",
    "    x2Rng = random.random()\n",
    "\n",
    "    adv = 'A' if appNumber > 49 else 'D'\n",
    "\n",
    "    x1 = 0\n",
    "    x2 = 0\n",
    "\n",
    "    if adv == 'A':\n",
    "      if x1Rng < 2/3:\n",
    "        x1 = 1\n",
    "      if x2Rng < 2/3:\n",
    "        x2 = 1\n",
    "    else:\n",
    "      if x1Rng < 1/2:\n",
    "        x1 = 1\n",
    "      if x2Rng < 1/2:\n",
    "        x2 = 1\n",
    "    f = x1 * x2\n",
    "    data.append([x1,x2,adv,f])\n",
    "\n",
    "  df = pd.DataFrame(data, columns=['x1', 'x2', 'G', 'f']) # Create dataframe\n",
    "  df['admitted'] = 0\n",
    "  df = df.sample(frac = 1) #This shuffles around the dataframe and allows for tie breaking\n",
    "  return df"
   ]
  },
  {
   "cell_type": "code",
   "execution_count": 4,
   "metadata": {
    "colab": {
     "base_uri": "https://localhost:8080/"
    },
    "id": "JVZ5f-u0_tFa",
    "outputId": "d93bcab9-bf34-4e8f-ef72-b3cdd68075e8"
   },
   "outputs": [],
   "source": [
    "# Function to generate initial data\n",
    "def genDf(probA = 0.6667, probD = 0.3333):\n",
    "  app_numbers = np.arange(100)\n",
    "  G_values = np.where(app_numbers > 49, 'A', 'D')\n",
    "\n",
    "  #assign the probabilities for X1 and X2 depending on the group\n",
    "  probs = np.where(G_values == 'A', probA, probD)\n",
    "\n",
    "  #calculate x1 and x2 based on probabilities\n",
    "  x1 = np.random.random(len(probs)) < probs\n",
    "  x2 = np.random.random(len(probs)) < probs\n",
    "\n",
    "  #calculate f based on x1 and x2\n",
    "  f = np.multiply(x1, x2) #x1 * x2\n",
    "\n",
    "  data = pd.DataFrame({'x1':x1, 'x2':x2,'G':G_values, 'f':f, 'admitted':np.zeros(100)})\n",
    "  data = data.sample(frac=1)\n",
    "\n",
    "  return data\n",
    "\n",
    "\n"
   ]
  },
  {
   "cell_type": "markdown",
   "metadata": {
    "id": "KuWadr6MED71"
   },
   "source": [
    "Compare runtime of old and new genDF() functions"
   ]
  },
  {
   "cell_type": "code",
   "execution_count": 5,
   "metadata": {
    "colab": {
     "base_uri": "https://localhost:8080/"
    },
    "id": "hP6R7h_PEDDt",
    "outputId": "47f0dae8-44c6-49c7-a4d8-12986eb8149c"
   },
   "outputs": [
    {
     "name": "stdout",
     "output_type": "stream",
     "text": [
      "Time for 1000 iterations on new genDf(): 0.15853190422058105\n",
      "Time for 1000 iterations on previous genDf(): 0.23180890083312988\n"
     ]
    }
   ],
   "source": [
    "start_time = time.time()\n",
    "for i in range(1000):\n",
    "  df2 = genDf()\n",
    "print(\"Time for 1000 iterations on new genDf():\" , time.time() - start_time)\n",
    "\n",
    "start_time = time.time()\n",
    "for i in range(1000):\n",
    "  df2 = genDf_prev()\n",
    "print(\"Time for 1000 iterations on previous genDf():\" , time.time() - start_time)"
   ]
  },
  {
   "cell_type": "code",
   "execution_count": 6,
   "metadata": {
    "id": "r8KkyJUQCSmS"
   },
   "outputs": [],
   "source": [
    "# Consider x1 and x2, but not group membership\n",
    "def run_scen_1(df):\n",
    "  df = df.sort_values(by=['f'],ascending=False).reset_index(drop = True)\n",
    "  df.loc[:27, 'admitted'] = 1\n",
    "  return(df)\n"
   ]
  },
  {
   "cell_type": "code",
   "execution_count": 7,
   "metadata": {
    "id": "vMDaR4_MD3Wo"
   },
   "outputs": [],
   "source": [
    "# Consider x1, but not x2 or group membership information\n",
    "def run_scen_2(df):\n",
    "  df = df.sort_values(by=['x1'],ascending=False).reset_index(drop = True)\n",
    "  df.loc[:27, 'admitted'] = 1\n",
    "  return(df)"
   ]
  },
  {
   "cell_type": "code",
   "execution_count": 8,
   "metadata": {
    "id": "wN9VvDvTCZbX"
   },
   "outputs": [],
   "source": [
    "# Consider x1 and group membership, but not x2\n",
    "def run_scen_3(df):\n",
    "  df['avg_f'] = np.where(df['x1']==0, 0,\n",
    "                np.where((df['x1']==1) & (df['G']=='A'), 2/3, 1/3))\n",
    "\n",
    "  df = df.sort_values(by=['avg_f'],ascending=False).reset_index(drop = True)\n",
    "  df.loc[:27, 'admitted'] = 1\n",
    "  return(df)"
   ]
  },
  {
   "cell_type": "code",
   "execution_count": 9,
   "metadata": {
    "id": "wiAuFs3FCeBu"
   },
   "outputs": [],
   "source": [
    "# Consider x1 for everyone, consider x2 for disadvantaged group, do not consider group info otherwise\n",
    "def run_scen_4(df):\n",
    "  df['avg_f'] = np.where((df['G']=='D') & (df['x1']==1) & (df['x2'] == 1), 1, #if the person is in the disadvantaged group, look at their x2 score also\n",
    "                np.where((df['x1']== 1) & ((df['G'] == 'A') | ((df['G'] == 'D') & (df['x2'] == 0))), 1/2,  #if the person is in the advantaged group, OR disadvantaged with x2= 0\n",
    "                0)) #if the person does not have even x1= 0,  average f must be 0\n",
    "\n",
    "  df = df.sort_values(by=['avg_f'],ascending=False).reset_index(drop = True)\n",
    "  df.loc[:27, 'admitted'] = 1\n",
    "  return(df)"
   ]
  },
  {
   "cell_type": "code",
   "execution_count": 10,
   "metadata": {
    "id": "DVZeRuf7M4ar"
   },
   "outputs": [],
   "source": [
    "def compute_results(res):\n",
    "  #subset to only admitted students\n",
    "  admitted = res.loc[res['admitted'] == 1]\n",
    "  #calculate percent of accepted applicants who are disadvantaged\n",
    "  equity = len(admitted.loc[admitted['G'] == 'D']) / len(admitted)\n",
    "  #print(res)\n",
    "  #print(\"Equity (mean group value): \", equity)\n",
    "  efficiency = admitted['f'].mean()\n",
    "  #print(\"Efficiency (mean f value): \", admitted['admitted'].mean())\n",
    "\n",
    "  return equity, efficiency"
   ]
  },
  {
   "cell_type": "code",
   "execution_count": 11,
   "metadata": {
    "id": "8KfKi8Nkk_fE"
   },
   "outputs": [],
   "source": [
    "#Calculation for part 3 to determine the ratios of meaningful employment.\n",
    "def compute_employment_dist(res):\n",
    "    emp_A = [] #Store employment odds based on advantage group and admissions status.\n",
    "    emp_D = []\n",
    "    emp_admit = []\n",
    "    emp_no_admit = []\n",
    "    for row in range(len(res)):\n",
    "        emp_odds = 0\n",
    "        if (res.loc[row]['G'] == 'A'):\n",
    "          emp_odds = emp_odds + .25\n",
    "        if (res.loc[row]['x1'] == 1):\n",
    "          emp_odds = emp_odds + .5\n",
    "        if (res.loc[row]['x2'] == 1):\n",
    "          emp_odds = emp_odds + .25\n",
    "\n",
    "        emp_odds = min(max(emp_odds,.05),.99)\n",
    "        rng = random.uniform(0, 1) #begin simulating employment\n",
    "        if (rng < emp_odds):\n",
    "          emp_odds = 1\n",
    "        else:\n",
    "          emp_odds = 0 #end simulating employment\n",
    "        if (res.loc[row]['G'] == 'A'):\n",
    "            emp_A.append(emp_odds)\n",
    "        else:\n",
    "            emp_D.append(emp_odds)\n",
    "        if (res.loc[row]['admitted'] == 0):\n",
    "            emp_no_admit.append(emp_odds)\n",
    "        else:\n",
    "            emp_admit.append(emp_odds)\n",
    "    return([np.mean(emp_A),np.mean(emp_D),np.mean(emp_admit),np.mean(emp_no_admit), np.sum(emp_A)+np.sum(emp_D)])"
   ]
  },
  {
   "cell_type": "code",
   "execution_count": 12,
   "metadata": {
    "id": "KdfvErl2NMKb"
   },
   "outputs": [],
   "source": [
    "#Definitions of fairness\n",
    "\n",
    "#function to determine equal opportunity - probability of admission for each group should be same if they both have positive features\n",
    "def equal_opportunity(df, threshold = 0.05, criteria = 1):\n",
    "  #only consider x1 as a \"positive trait\"\n",
    "  if criteria == 1:\n",
    "    prob_accepted_d = df[(df['G'] == 'D') & (df['x1'] == 1)]['admitted'].mean()\n",
    "    prob_accepted_a = df[(df['G'] == 'A') & (df['x1'] == 1)]['admitted'].mean()\n",
    "\n",
    "  #if 2 or any other value are passed, consider a \"positive trait\" to be both x1 and x2 and calculate the probability of being admitted\n",
    "  else:\n",
    "    prob_accepted_d = df[(df['G'] == 'D') & (df['x1'] == 1) & (df['x2'] == 1)]['admitted'].mean()\n",
    "    prob_accepted_a = df[(df['G'] == 'A') & (df['x1'] == 1) & (df['x2'] == 1)]['admitted'].mean()\n",
    "\n",
    "  ret_val = prob_accepted_a - prob_accepted_d\n",
    "\n",
    "  return ret_val\n",
    "\n",
    "#take the list of results from many attempts and summarize the findings into a string\n",
    "def equal_opportunity_summary(equal_opp_list):\n",
    "\n",
    "  results = np.round(np.mean(equal_opp_list), decimals = 3)\n",
    "\n",
    "  return results\n"
   ]
  },
  {
   "cell_type": "code",
   "execution_count": 13,
   "metadata": {
    "colab": {
     "base_uri": "https://localhost:8080/"
    },
    "id": "68mWnnS0VGu-",
    "outputId": "284605a3-738b-4124-e9aa-d6f140bd081a"
   },
   "outputs": [
    {
     "name": "stdout",
     "output_type": "stream",
     "text": [
      "Scenario 1 Efficiency: 0.9396428571428569 , Equity: 0.2171428571428571\n",
      "Scenario 2 Efficiency: 0.5453571428571429 , Equity: 0.33607142857142847\n",
      "Scenario 3 Efficiency: 0.6642857142857141 , Equity: 0.005714285714285714\n",
      "Scenario 4 Efficiency: 0.5942857142857144 , Equity: 0.3971428571428571\n",
      "Results for part 3:\n",
      "Scenario 1 Employment Stats (A, D, Admit, No Admit): [ 0.7386      0.265       0.91107143  0.34263889 50.18      ]\n",
      "Scenario 2 Employment Stats (A, D, Admit, No Admit): [ 0.7542      0.2758      0.79678571  0.40541667 51.5       ]\n",
      "Scenario 3 Employment Stats (A, D, Admit, No Admit): [ 0.7478      0.2646      0.91285714  0.34805556 50.62      ]\n",
      "Scenario 4 Employment Stats (A, D, Admit, No Admit): [ 0.7572      0.2738      0.80892857  0.40138889 51.55      ]\n",
      "\n",
      " Equal Opportunity (Definition of Fairness): positive scores favor disadvantaged group\n",
      "Scenario 1, using x1 as positive group:  0.317\n",
      "Scenario 1, using x1 and x2 as positive group:  0.006\n",
      "Scenario 2, using x1 as positive group:  -0.015\n",
      "Scenario 2, using x1 and x2 as positive group:  -0.038\n",
      "Scenario 3, using x1 as positive group:  0.825\n",
      "Scenario 3, using x1 and x2 as positive group:  0.82\n",
      "Scenario 4, using x1 as positive group:  -0.17\n",
      "Scenario 4, using x1 and x2 as positive group:  -0.502\n"
     ]
    }
   ],
   "source": [
    "#function takes a function (1 of 4 scenarios) as the first parameter, then the population to calculate on, and 2 lists to store the results\n",
    "def scenario_repeated(func, population, equity_list, efficiency_list, employment_list, equalopp_list1, equalopp_list2):\n",
    "  #first call the appropriate scenario function\n",
    "  result_df = func(population)\n",
    "\n",
    "  #calculate the efficiency and equity\n",
    "  eq, eff = compute_results(result_df)\n",
    "  emp_vector = compute_employment_dist(result_df) #Addition for part 3\n",
    "\n",
    "  #calculate equal opportunity\n",
    "  equalopp1 = equal_opportunity(result_df, criteria = 1)\n",
    "  equalopp2 = equal_opportunity(result_df, criteria = 2)\n",
    "\n",
    "  #append to lists (passed by reference)\n",
    "  equity_list.append(eq)\n",
    "  efficiency_list.append(eff)\n",
    "  employment_list.append(emp_vector)\n",
    "  equalopp_list1.append(equalopp1)\n",
    "  equalopp_list2.append(equalopp2)\n",
    "\n",
    "\n",
    "#create empty lists to save repeated calculations of the efficiency and equity scores\n",
    "scen1_equity = []\n",
    "scen1_efficiency = []\n",
    "scen2_equity = []\n",
    "scen2_efficiency = []\n",
    "scen3_equity = []\n",
    "scen3_efficiency = []\n",
    "scen4_equity = []\n",
    "scen4_efficiency = []\n",
    "\n",
    "#create empty lists to save calculations of employment rates\n",
    "scen1_employment = [[]]\n",
    "scen2_employment = [[]]\n",
    "scen3_employment = [[]]\n",
    "scen4_employment = [[]]\n",
    "\n",
    "#create empty lists to save calculations of equal opportunity rates (for criteria = 1 and criteria = 2)\n",
    "scen1_equalopp1 = []\n",
    "scen2_equalopp1 = []\n",
    "scen3_equalopp1 = []\n",
    "scen4_equalopp1 = []\n",
    "scen1_equalopp2 = []\n",
    "scen2_equalopp2 = []\n",
    "scen3_equalopp2 = []\n",
    "scen4_equalopp2 = []\n",
    "\n",
    "#calculate equity and efficiency for all 4 scenarios repeatedly\n",
    "for i in range(100):\n",
    "  population = genDf()\n",
    "\n",
    "  scenario_repeated(run_scen_1, population, scen1_equity, scen1_efficiency, scen1_employment, scen1_equalopp1, scen1_equalopp2)\n",
    "  scenario_repeated(run_scen_2, population, scen2_equity, scen2_efficiency, scen2_employment, scen2_equalopp1, scen2_equalopp2)\n",
    "  scenario_repeated(run_scen_3, population, scen3_equity, scen3_efficiency, scen3_employment, scen3_equalopp1, scen3_equalopp2)\n",
    "  scenario_repeated(run_scen_4, population, scen4_equity, scen4_efficiency, scen4_employment, scen4_equalopp1, scen4_equalopp2)\n",
    "\n",
    "\n",
    "#Print results\n",
    "print(\"Scenario 1 Efficiency: {} , Equity: {}\".format(np.mean(scen1_efficiency), np.mean(scen1_equity)))\n",
    "print(\"Scenario 2 Efficiency: {} , Equity: {}\".format(np.mean(scen2_efficiency), np.mean(scen2_equity)))\n",
    "print(\"Scenario 3 Efficiency: {} , Equity: {}\".format(np.mean(scen3_efficiency), np.mean(scen3_equity)))\n",
    "print(\"Scenario 4 Efficiency: {} , Equity: {}\".format(np.mean(scen4_efficiency), np.mean(scen4_equity)))\n",
    "print(\"Results for part 3:\") #Print results for part 3\n",
    "#print(\"Scenario 1 Employment by group: {}\".format(np.mean(scen1_employment)))\n",
    "scen1_employment.pop(0)\n",
    "scen2_employment.pop(0)\n",
    "scen3_employment.pop(0)\n",
    "scen4_employment.pop(0)\n",
    "print(\"Scenario 1 Employment Stats (A, D, Admit, No Admit): {}\".format(np.mean(scen1_employment, axis=0)))\n",
    "print(\"Scenario 2 Employment Stats (A, D, Admit, No Admit): {}\".format(np.mean(scen2_employment, axis=0)))\n",
    "print(\"Scenario 3 Employment Stats (A, D, Admit, No Admit): {}\".format(np.mean(scen3_employment, axis=0)))\n",
    "print(\"Scenario 4 Employment Stats (A, D, Admit, No Admit): {}\".format(np.mean(scen4_employment, axis=0)))\n",
    "\n",
    "print(\"\\n Equal Opportunity (Definition of Fairness): positive scores favor disadvantaged group\")\n",
    "print(\"Scenario 1, using x1 as positive group: \", equal_opportunity_summary(scen1_equalopp1))\n",
    "print(\"Scenario 1, using x1 and x2 as positive group: \", equal_opportunity_summary(scen1_equalopp2))\n",
    "print(\"Scenario 2, using x1 as positive group: \", equal_opportunity_summary(scen2_equalopp1))\n",
    "print(\"Scenario 2, using x1 and x2 as positive group: \", equal_opportunity_summary(scen2_equalopp2))\n",
    "print(\"Scenario 3, using x1 as positive group: \", equal_opportunity_summary(scen3_equalopp1))\n",
    "print(\"Scenario 3, using x1 and x2 as positive group: \", equal_opportunity_summary(scen3_equalopp2))\n",
    "print(\"Scenario 4, using x1 as positive group: \", equal_opportunity_summary(scen4_equalopp1))\n",
    "print(\"Scenario 4, using x1 and x2 as positive group: \", equal_opportunity_summary(scen4_equalopp2))"
   ]
  },
  {
   "cell_type": "code",
   "execution_count": 14,
   "metadata": {
    "colab": {
     "base_uri": "https://localhost:8080/",
     "height": 452
    },
    "id": "b0jN6TUS9jU1",
    "outputId": "349aa66e-4864-43bc-abec-17db7953c948"
   },
   "outputs": [
    {
     "data": {
      "image/png": "[encoded data removed]",
      "text/plain": [
       "<Figure size 640x480 with 1 Axes>"
      ]
     },
     "metadata": {},
     "output_type": "display_data"
    }
   ],
   "source": [
    "# Creating plots for Part 1\n",
    "plt.style.use('dark_background')\n",
    "\n",
    "# Bar chart of average efficiency and equity scores across scenarios\n",
    "results_dict_pt1 = {'Scenario 1': {'Equity': scen1_equity, 'Efficiency': scen1_efficiency},\n",
    "                    'Scenario 2': {'Equity': scen2_equity, 'Efficiency': scen2_efficiency},\n",
    "                    'Scenario 3': {'Equity': scen3_equity, 'Efficiency': scen3_efficiency},\n",
    "                    'Scenario 4': {'Equity': scen4_equity, 'Efficiency': scen4_efficiency}}\n",
    "\n",
    "plt.bar([1,2,3,4], [np.mean(each['Efficiency']) for each in results_dict_pt1.values()], width = 0.25, label = 'Efficiency')\n",
    "plt.bar([1.25, 2.25, 3.25, 4.25], [np.mean(each['Equity']) for each in results_dict_pt1.values()], width = 0.25, label = 'Equity')\n",
    "plt.title('Mean Efficiency and Equity (100 simulations)')\n",
    "plt.xticks([1.125,2.125,3.125,4.125], results_dict_pt1.keys())\n",
    "plt.legend(loc='upper right')\n",
    "plt.ylim(0, 1)\n",
    "# plt.close()\n",
    "\n",
    "# Line chart of efficiency and equity scores across repeated runs\n",
    "fig, (ax1, ax2) = plt.subplots(1, 2)\n",
    "fig.set_figwidth(15)\n",
    "\n",
    "for each in results_dict_pt1.keys():\n",
    "  ax1.plot(np.arange(len(results_dict_pt1[each]['Equity'])), results_dict_pt1[each]['Equity'], label = each)\n",
    "  ax2.plot(np.arange(len(results_dict_pt1[each]['Efficiency'])), results_dict_pt1[each]['Efficiency'])\n",
    "\n",
    "plt.setp(ax1, ylim=(0,1))\n",
    "plt.setp(ax2, ylim=(0,1))\n",
    "ax1.set_title('Equity Across 100 Simulations')\n",
    "ax2.set_title('Efficiency Across 100 Simulations')\n",
    "ax1.set_xlabel('Simulation Index')\n",
    "ax2.set_xlabel('Simulation Index')\n",
    "ax1.set_ylabel('Equity')\n",
    "ax2.set_ylabel('Efficiency')\n",
    "fig.legend(loc='upper right')\n",
    "plt.close()\n",
    "\n"
   ]
  },
  {
   "cell_type": "code",
   "execution_count": 15,
   "metadata": {
    "colab": {
     "base_uri": "https://localhost:8080/",
     "height": 490
    },
    "id": "pFZ4XnJmEXnv",
    "outputId": "c8dcf2a7-6a3b-4ba8-a942-56c9c6fc3200"
   },
   "outputs": [
    {
     "data": {
      "text/plain": [
       "Text(0, 0.5, 'Prob. Accepted | Positive Criteria \\n (Advantaged - Disadvantaged)')"
      ]
     },
     "execution_count": 15,
     "metadata": {},
     "output_type": "execute_result"
    },
    {
     "data": {
      "image/png": "[encoded data removed]",
      "text/plain": [
       "<Figure size 640x480 with 1 Axes>"
      ]
     },
     "metadata": {},
     "output_type": "display_data"
    }
   ],
   "source": [
    "#create plots showing the difference in equal opportunity fairness definition\n",
    "plt.style.use('dark_background')\n",
    "\n",
    "all_criteria1 = [scen1_equalopp1, scen2_equalopp1, scen3_equalopp1, scen4_equalopp1]\n",
    "plt.boxplot(all_criteria1)\n",
    "plt.axhline(y=0, color='cyan')\n",
    "plt.title('Positive Criteria = X1')\n",
    "plt.xlabel('Scenario')\n",
    "plt.ylabel('Prob. Accepted | Positive Criteria \\n (Advantaged - Disadvantaged)')\n",
    "#plt.close()\n",
    "\n",
    "#all_criteria2 = [scen1_equalopp2, scen2_equalopp2, scen3_equalopp2, scen4_equalopp2]\n",
    "#plt.boxplot(all_criteria2)\n",
    "#plt.axhline(y=0, color='cyan')\n",
    "##plt.title('Positive Criteria = X1 & X2')\n",
    "#plt.xlabel('Scenario')\n",
    "#plt.ylabel('Prob. Accepted | Positive Criteria \\n (Advantaged - Disadvantaged)')\n",
    "#plt.close()"
   ]
  },
  {
   "cell_type": "markdown",
   "metadata": {
    "id": "QtkNyEX2cAAV"
   },
   "source": [
    "## Part 2\n",
    "\n",
    "For the new generation -\n",
    "* if the parent is in the advantaged group:\n",
    "  * if the parent was admitted to college, the child is certainly in the advantaged group.\n",
    "  * if the parent was not admitted to college, the child has a 25% change of changing to the disadvantaged group\n",
    "* if the parent is in the disadvantaged group:\n",
    "  * if the parent was admitted to college, the child has a 50% chance of changing to the advantaged group\n",
    "  * if the parent was not admitted to college, the child is certainly in the disadvantaged group."
   ]
  },
  {
   "cell_type": "code",
   "execution_count": 34,
   "metadata": {
    "id": "YvHLiBm5V03l"
   },
   "outputs": [],
   "source": [
    "import warnings\n",
    "warnings.simplefilter(action='ignore')\n",
    "\n",
    "def nextGeneration_prev(df):\n",
    "    nextGen = df.copy(deep=True)\n",
    "\n",
    "    # use probabilities to determine if any children will switch groups\n",
    "    for row in range(len(df)):\n",
    "        if (nextGen.loc[row]['admitted'] == 1) and (nextGen.loc[row]['G'] == 'D'):\n",
    "            rng = random.random()\n",
    "            if rng < .1:\n",
    "                nextGen['G'][row] = 'A'\n",
    "        if (nextGen.loc[row]['admitted'] == 0) and (nextGen.loc[row]['G'] == 'A'):\n",
    "            rng = random.random()\n",
    "            if rng < .1:\n",
    "                nextGen['G'][row] = 'D'\n",
    "\n",
    "    # determine x1, x2, and f values for all children according to the probabilities assigned to their groups\n",
    "    for row in range(len(df)):\n",
    "        x1Rng = random.random()\n",
    "        x2Rng = random.random()\n",
    "        adv = nextGen['G'][row]\n",
    "        if adv == 'A':\n",
    "            if x1Rng < 2/3:\n",
    "                nextGen['x1'][row] = 1\n",
    "            else:\n",
    "                nextGen['x1'][row] = 0\n",
    "            if x2Rng < 2/3:\n",
    "                nextGen['x2'][row] = 1\n",
    "            else:\n",
    "                nextGen['x2'][row] = 0\n",
    "        else:\n",
    "            if x1Rng < 1/2:\n",
    "                nextGen['x1'][row] = 1\n",
    "            else:\n",
    "                nextGen['x1'][row] = 0\n",
    "            if x2Rng < 1/2:\n",
    "                nextGen['x2'][row] = 1\n",
    "            else:\n",
    "                nextGen['x2'][row] = 0\n",
    "        f = (nextGen['x1'][row]) * (nextGen['x2'][row])\n",
    "        nextGen['f'][row] = f\n",
    "\n",
    "    # reset admitted values\n",
    "    nextGen['admitted'] = 0\n",
    "\n",
    "    #return a dataframe of the new generation\n",
    "    return nextGen"
   ]
  },
  {
   "cell_type": "code",
   "execution_count": 35,
   "metadata": {
    "id": "9v2in2V1AbKp"
   },
   "outputs": [],
   "source": [
    "# Function to generate initial data\n",
    "def nextGeneration(df, probA = 0.6667, probD = 0.3333, probMoveUp = 0.1, probMoveDown = 0.1):\n",
    "\n",
    "  #decide if anyone will switch groups\n",
    "  switch_prob = np.random.random(len(df))\n",
    "  #boolean list that indicates whether this person is moving up\n",
    "  move_up = np.where((df['G'] == 'D') & (df['admitted'] == 1) & (switch_prob < probMoveUp), 1, 0)\n",
    "  #boolean list that indicates whether this person is moving down\n",
    "  move_down = np.where((df['G'] == 'A') & (df['admitted'] == 0) & (switch_prob < probMoveDown), 1, 0)\n",
    "  #boolean list that indicates the group - considering if they moved up, down, or stayed the same\n",
    "  new_G = np.where(move_up, 'A', np.where(move_down, 'D', df['G']))\n",
    "\n",
    "\n",
    "  #assign the probabilities for X1 and X2 depending on the group\n",
    "  probs = np.where(new_G == 'A', probA, probD)\n",
    "\n",
    "  #calculate x1 and x2 based on probabilities\n",
    "  x1 = np.random.random(len(probs)) < probs\n",
    "  x2 = np.random.random(len(probs)) < probs\n",
    "\n",
    "  #calculate f based on x1 and x2\n",
    "  f = np.multiply(x1, x2)\n",
    "\n",
    "  nextGen = pd.DataFrame({'x1':x1, 'x2':x2,'G': new_G, 'f':f, 'admitted':np.zeros(100)})\n",
    "  nextGen = nextGen.sample(frac=1)\n",
    "\n",
    "  return nextGen"
   ]
  },
  {
   "cell_type": "markdown",
   "metadata": {
    "id": "RJm-6z-KDal4"
   },
   "source": [
    "Compare runtime of old code and new code:"
   ]
  },
  {
   "cell_type": "code",
   "execution_count": 36,
   "metadata": {
    "colab": {
     "base_uri": "https://localhost:8080/"
    },
    "id": "btBpPpD4BM5I",
    "outputId": "7f1a7ad5-d7fc-445b-d558-03bec53ad212"
   },
   "outputs": [
    {
     "name": "stdout",
     "output_type": "stream",
     "text": [
      "Next Generation2 took 0.32604408264160156 for 1000 iterations\n",
      "Next Generation1 took 23.025486946105957 for 1000 iterations\n"
     ]
    }
   ],
   "source": [
    "admitted_df = run_scen_4(df2)\n",
    "\n",
    "start_time = time.time()\n",
    "for i in range(1000):\n",
    "  df_test = nextGeneration(admitted_df)\n",
    "print(\"Next Generation2 took {} for 1000 iterations\".format(time.time() - start_time))\n",
    "\n",
    "tart_time = time.time()\n",
    "for i in range(1000):\n",
    "  df_test = nextGeneration_prev(admitted_df)\n",
    "print(\"Next Generation1 took {} for 1000 iterations\".format(time.time() - start_time))"
   ]
  },
  {
   "cell_type": "markdown",
   "metadata": {
    "id": "8QLm5Tlkry68"
   },
   "source": [
    "Create 100 new generations and calculate efficiency and equity over time"
   ]
  },
  {
   "cell_type": "code",
   "execution_count": 37,
   "metadata": {
    "colab": {
     "base_uri": "https://localhost:8080/"
    },
    "id": "tGqZaHwLzLpQ",
    "outputId": "9fc0b873-b2f4-4ce7-ef28-1eebe07d6ddf"
   },
   "outputs": [
    {
     "name": "stdout",
     "output_type": "stream",
     "text": [
      "0\n",
      "1\n",
      "2\n",
      "Execution Time =  0.7872030735015869\n"
     ]
    }
   ],
   "source": [
    "start_time = time.time()\n",
    "\n",
    "num_generations = 100\n",
    "num_repeats = 3\n",
    "\n",
    "# Create empty list to store dataframes\n",
    "generation_dfs = [[[], [], [], []] for i in range(num_repeats)]\n",
    "\n",
    "# Create list of functions to run\n",
    "scen_func = [run_scen_1, run_scen_2, run_scen_3, run_scen_4]\n",
    "\n",
    "#repeat with different random starting generations\n",
    "for rep in range(num_repeats):\n",
    "\n",
    "  # Run simulation for each scenario\n",
    "  for each in range(4):\n",
    "    #initialize a starting generation\n",
    "    this_generation = genDf()\n",
    "\n",
    "    # Run admission scenario\n",
    "    func = scen_func[each]\n",
    "\n",
    "    #generate subsequent generations and calculate equity/efficiency for each scenario\n",
    "    for gen in range(num_generations):\n",
    "      results = func(this_generation)\n",
    "      generation_dfs[rep][each].append(results)\n",
    "\n",
    "      # update this generation by creating a new generation\n",
    "      this_generation = nextGeneration(results)\n",
    "\n",
    "  print(rep)\n",
    "\n",
    "\n",
    "print(\"Execution Time = \", time.time() - start_time)"
   ]
  },
  {
   "cell_type": "code",
   "execution_count": 51,
   "metadata": {
    "id": "bksNHk3J7xF1"
   },
   "outputs": [],
   "source": [
    "# Calculate efficiency, equity, and employment stats for each df\n",
    "equities = [[[compute_results(df)[0] for df in scenario_list] for scenario_list in rep_list] for rep_list in generation_dfs]\n",
    "efficiencies = [[[compute_results(df)[1] for df in scenario_list] for scenario_list in rep_list] for rep_list in generation_dfs]\n",
    "employment = [[[compute_employment_dist(df) for df in scenario_list] for scenario_list in rep_list] for rep_list in generation_dfs]\n",
    "disadv_count = [[[len(df.loc[df['G'] == 'D']) for df in scenario_list] for scenario_list in rep_list] for rep_list in generation_dfs]"
   ]
  },
  {
   "cell_type": "code",
   "execution_count": 52,
   "metadata": {
    "id": "ZfIrzvt3-6K9"
   },
   "outputs": [],
   "source": [
    "# Calculate means\n",
    "mean_equities = []\n",
    "mean_efficiences = []\n",
    "mean_employment_a = []\n",
    "mean_employment_d = []\n",
    "mean_employment_admit = []\n",
    "mean_employment_no_admit = []\n",
    "mean_employment_total = []\n",
    "mean_disadv_count = []\n",
    "\n",
    "for each in range(4):\n",
    "  mean_equities.append([np.mean([equities[0][each][gen], equities[1][each][gen], equities[2][each][gen]]) for gen in range(num_generations)])\n",
    "  mean_efficiences.append([np.mean([efficiencies[0][each][gen], efficiencies[1][each][gen], efficiencies[2][each][gen]]) for gen in range(num_generations)])\n",
    "  mean_disadv_count.append([np.mean([disadv_count[0][each][gen], disadv_count[1][each][gen], disadv_count[2][each][gen]]) for gen in range(num_generations)])\n",
    "  mean_employment_a.append([np.mean([employment[0][each][gen][0], employment[1][each][gen][0], employment[2][each][gen][0]]) for gen in range(num_generations)])\n",
    "  mean_employment_d.append([np.mean([employment[0][each][gen][1], employment[1][each][gen][1], employment[2][each][gen][1]]) for gen in range(num_generations)])\n",
    "  mean_employment_admit.append([np.mean([employment[0][each][gen][2], employment[1][each][gen][2], employment[2][each][gen][2]]) for gen in range(num_generations)])\n",
    "  mean_employment_no_admit.append([np.mean([employment[0][each][gen][3], employment[1][each][gen][3], employment[2][each][gen][3]]) for gen in range(num_generations)])\n",
    "  mean_employment_total.append([np.mean([employment[0][each][gen][4], employment[1][each][gen][4], employment[2][each][gen][4]]) for gen in range(num_generations)])"
   ]
  },
  {
   "cell_type": "markdown",
   "metadata": {
    "id": "MuA-9KhP2Wdf"
   },
   "source": [
    "### Problem 2 summary across generations:  \n",
    "\n",
    "*   Scenario 1.   \n",
    "  *  equity increases to 1 across generations (crosses 0.5 threshold by 3rd generation).  \n",
    "  * efficiency decreases steadily across generations\n",
    "*   Scenario 2.\n",
    "  * equity increases to 1 across generations (crosses 0.5 threshold by 3rd generation).\n",
    "  * efficiency decreases steadily across generations.\n",
    "* Scenario 3.\n",
    "  * equity increases to 1 across generations (crosses 0.5 threshold by 4th generation)\n",
    "  * efficiency decreases steadily across generations.  \n",
    "* Scenario 4.  \n",
    "  * equity increases to 1 across generations. (crosses ~0.5 threshold by 2nd generation)\n",
    "  * efficiency remains approximately the same.  \n",
    "\n"
   ]
  },
  {
   "cell_type": "code",
   "execution_count": 53,
   "metadata": {
    "colab": {
     "base_uri": "https://localhost:8080/",
     "height": 490
    },
    "id": "n7SbaZuO_Tkx",
    "outputId": "4c6988c1-008e-45ca-cec4-4763f49d944f"
   },
   "outputs": [
    {
     "data": {
      "text/plain": [
       "<matplotlib.legend.Legend at 0x7c9f37ef2290>"
      ]
     },
     "execution_count": 53,
     "metadata": {},
     "output_type": "execute_result"
    },
    {
     "data": {
      "image/png": "[encoded data removed]",
      "text/plain": [
       "<Figure size 640x480 with 1 Axes>"
      ]
     },
     "metadata": {},
     "output_type": "display_data"
    }
   ],
   "source": [
    "# Creating plots for Part 2\n",
    "\n",
    "# Line chart of efficiency scores across generations\n",
    "for each in range(4):\n",
    "  plt.plot(np.arange(len(mean_efficiences[each])), mean_efficiences[each], label = f'Scenario {each+1}')\n",
    "\n",
    "plt.ylim(0,1.05)\n",
    "plt.title('Efficiency Across 100 Generations, Social Mobility = 0.1')\n",
    "plt.xlabel('Generation')\n",
    "plt.ylabel('Efficiency')\n",
    "plt.legend(loc='lower right')\n",
    "plt.close()\n",
    "\n",
    "# Line chart of equity scores across generations\n",
    "for each in range(4):\n",
    "  plt.plot(np.arange(len(mean_equities[each])), mean_equities[each], label = f'Scenario {each+1}')\n",
    "\n",
    "plt.ylim(0,1.05)\n",
    "plt.title('Equity Across 100 Generations, Social Mobility = 0.1')\n",
    "plt.xlabel('Generation')\n",
    "plt.ylabel('Equity')\n",
    "plt.legend(loc='upper right')\n",
    "plt.close()\n",
    "\n",
    "# Line chart of disadvantage group count across generations\n",
    "for each in range(4):\n",
    "  plt.plot(np.arange(len(mean_disadv_count[each])), mean_disadv_count[each], label = f'Scenario {each+1}')\n",
    "\n",
    "plt.ylim(0,100)\n",
    "plt.title('Number of Disadvantaged Students Across 100 Generations, Social Mobility = 0.1')\n",
    "plt.xlabel('Generation')\n",
    "plt.ylabel('Disadvantaged Count')\n",
    "plt.legend(loc='lower right')\n",
    "# plt.close()\n",
    "\n"
   ]
  },
  {
   "cell_type": "code",
   "execution_count": 55,
   "metadata": {
    "colab": {
     "base_uri": "https://localhost:8080/",
     "height": 490
    },
    "id": "CdeefywCCJ6L",
    "outputId": "323c4e5e-fc3f-413f-8ffd-740ceac4f8a5"
   },
   "outputs": [
    {
     "data": {
      "text/plain": [
       "<matplotlib.legend.Legend at 0x7c9f3805da50>"
      ]
     },
     "execution_count": 55,
     "metadata": {},
     "output_type": "execute_result"
    },
    {
     "data": {
      "image/png": "[encoded data removed]",
      "text/plain": [
       "<Figure size 640x480 with 1 Axes>"
      ]
     },
     "metadata": {},
     "output_type": "display_data"
    }
   ],
   "source": [
    "# Creating plots for Part 3\n",
    "# Line chart of employment for each group across generations\n",
    "fig, axs = plt.subplots(2, 2, layout = 'constrained')\n",
    "\n",
    "axs[0,0].plot(np.arange(len(mean_employment_a[0])), mean_employment_a[0], label = 'Advantaged')\n",
    "axs[0,0].plot(np.arange(len(mean_employment_d[0])), mean_employment_d[0], label = 'Disadvantaged')\n",
    "axs[0,1].plot(np.arange(len(mean_employment_a[1])), mean_employment_a[1])\n",
    "axs[0,1].plot(np.arange(len(mean_employment_d[1])), mean_employment_d[1])\n",
    "axs[1,0].plot(np.arange(len(mean_employment_a[2])), mean_employment_a[2])\n",
    "axs[1,0].plot(np.arange(len(mean_employment_d[2])), mean_employment_d[2])\n",
    "axs[1,1].plot(np.arange(len(mean_employment_a[3])), mean_employment_a[3])\n",
    "axs[1,1].plot(np.arange(len(mean_employment_d[3])), mean_employment_d[3])\n",
    "\n",
    "axs[0,0].set_title(\"Scenario 1\")\n",
    "axs[0,1].set_title(\"Scenario 2\")\n",
    "axs[1,0].set_title(\"Scenario 3\")\n",
    "axs[1,1].set_title(\"Scenario 4\")\n",
    "\n",
    "axs[0,0].set_ylabel(\"Proportion Employed\")\n",
    "axs[1,0].set_ylabel(\"Proportion Employed\")\n",
    "axs[1,0].set_xlabel(\"Generation\")\n",
    "axs[1,1].set_xlabel(\"Generation\")\n",
    "\n",
    "axs[0,0].set_ylim(0,1)\n",
    "axs[0,1].set_ylim(0,1)\n",
    "axs[1,0].set_ylim(0,1)\n",
    "axs[1,1].set_ylim(0,1)\n",
    "\n",
    "fig.suptitle('Proportion Employed Across 100 Generations, Social Mobility = 0.1')\n",
    "fig.legend(loc='outside lower center')\n",
    "plt.close()\n",
    "\n",
    "# Bar chart chart of proportion employed across scenarios, gen 1\n",
    "results_dict_pt3 = {'Scenario 1': {'adv': np.mean(scen1_employment, axis=0)[0], 'disadv': np.mean(scen1_employment, axis=0)[1]},\n",
    "                    'Scenario 2': {'adv': np.mean(scen2_employment, axis=0)[0], 'disadv': np.mean(scen1_employment, axis=0)[1]},\n",
    "                    'Scenario 3': {'adv': np.mean(scen3_employment, axis=0)[0], 'disadv': np.mean(scen1_employment, axis=0)[1]},\n",
    "                    'Scenario 4': {'adv': np.mean(scen4_employment, axis=0)[0], 'disadv': np.mean(scen1_employment, axis=0)[1]}}\n",
    "\n",
    "plt.bar([1,2,3,4], [np.mean(each['disadv']) for each in results_dict_pt3.values()], width = 0.25, label = 'Disadvantaged')\n",
    "plt.bar([1.25, 2.25, 3.25, 4.25], [np.mean(each['adv']) for each in results_dict_pt3.values()], width = 0.25, label = 'Advantaged')\n",
    "plt.title('Mean Proportion of Employment by Group')\n",
    "plt.xticks([1.125,2.125,3.125,4.125], results_dict_pt3.keys())\n",
    "plt.legend(loc='upper right')\n",
    "plt.ylim(0, 1)\n",
    "plt.close()\n",
    "\n",
    "\n",
    "# Line chart of equity scores across generations\n",
    "for each in range(4):\n",
    "  plt.plot(np.arange(len(mean_employment_total[each])), mean_employment_total[each], label = f'Scenario {each+1}')\n",
    "\n",
    "plt.ylim(0,100)\n",
    "plt.title('Total Employment Across 100 Generations, Social Mobility = 0.1')\n",
    "plt.xlabel('Generation')\n",
    "plt.ylabel('Total Employed (out of 100)')\n",
    "plt.legend(loc='upper right')\n",
    "plt.close()\n"
   ]
  },
  {
   "cell_type": "markdown",
   "metadata": {
    "id": "WB3d1b7XD3Y2"
   },
   "source": [
    "## Part 3 - Bias mitigation approach"
   ]
  },
  {
   "cell_type": "code",
   "execution_count": 27,
   "metadata": {},
   "outputs": [
    {
     "data": {
      "text/html": [
       "<div>\n",
       "<style scoped>\n",
       "    .dataframe tbody tr th:only-of-type {\n",
       "        vertical-align: middle;\n",
       "    }\n",
       "\n",
       "    .dataframe tbody tr th {\n",
       "        vertical-align: top;\n",
       "    }\n",
       "\n",
       "    .dataframe thead th {\n",
       "        text-align: right;\n",
       "    }\n",
       "</style>\n",
       "<table border=\"1\" class=\"dataframe\">\n",
       "  <thead>\n",
       "    <tr style=\"text-align: right;\">\n",
       "      <th></th>\n",
       "      <th>x1</th>\n",
       "      <th>x2</th>\n",
       "      <th>G</th>\n",
       "      <th>f</th>\n",
       "      <th>admitted</th>\n",
       "    </tr>\n",
       "  </thead>\n",
       "  <tbody>\n",
       "    <tr>\n",
       "      <th>93</th>\n",
       "      <td>False</td>\n",
       "      <td>False</td>\n",
       "      <td>A</td>\n",
       "      <td>False</td>\n",
       "      <td>0.0</td>\n",
       "    </tr>\n",
       "    <tr>\n",
       "      <th>29</th>\n",
       "      <td>True</td>\n",
       "      <td>False</td>\n",
       "      <td>D</td>\n",
       "      <td>False</td>\n",
       "      <td>0.0</td>\n",
       "    </tr>\n",
       "    <tr>\n",
       "      <th>41</th>\n",
       "      <td>True</td>\n",
       "      <td>False</td>\n",
       "      <td>D</td>\n",
       "      <td>False</td>\n",
       "      <td>0.0</td>\n",
       "    </tr>\n",
       "    <tr>\n",
       "      <th>74</th>\n",
       "      <td>True</td>\n",
       "      <td>False</td>\n",
       "      <td>A</td>\n",
       "      <td>False</td>\n",
       "      <td>0.0</td>\n",
       "    </tr>\n",
       "    <tr>\n",
       "      <th>64</th>\n",
       "      <td>True</td>\n",
       "      <td>True</td>\n",
       "      <td>A</td>\n",
       "      <td>True</td>\n",
       "      <td>0.0</td>\n",
       "    </tr>\n",
       "    <tr>\n",
       "      <th>...</th>\n",
       "      <td>...</td>\n",
       "      <td>...</td>\n",
       "      <td>...</td>\n",
       "      <td>...</td>\n",
       "      <td>...</td>\n",
       "    </tr>\n",
       "    <tr>\n",
       "      <th>20</th>\n",
       "      <td>True</td>\n",
       "      <td>False</td>\n",
       "      <td>D</td>\n",
       "      <td>False</td>\n",
       "      <td>0.0</td>\n",
       "    </tr>\n",
       "    <tr>\n",
       "      <th>47</th>\n",
       "      <td>True</td>\n",
       "      <td>True</td>\n",
       "      <td>D</td>\n",
       "      <td>True</td>\n",
       "      <td>0.0</td>\n",
       "    </tr>\n",
       "    <tr>\n",
       "      <th>48</th>\n",
       "      <td>False</td>\n",
       "      <td>False</td>\n",
       "      <td>D</td>\n",
       "      <td>False</td>\n",
       "      <td>0.0</td>\n",
       "    </tr>\n",
       "    <tr>\n",
       "      <th>75</th>\n",
       "      <td>True</td>\n",
       "      <td>True</td>\n",
       "      <td>A</td>\n",
       "      <td>True</td>\n",
       "      <td>0.0</td>\n",
       "    </tr>\n",
       "    <tr>\n",
       "      <th>40</th>\n",
       "      <td>False</td>\n",
       "      <td>True</td>\n",
       "      <td>D</td>\n",
       "      <td>False</td>\n",
       "      <td>0.0</td>\n",
       "    </tr>\n",
       "  </tbody>\n",
       "</table>\n",
       "<p>100 rows × 5 columns</p>\n",
       "</div>"
      ],
      "text/plain": [
       "       x1     x2  G      f  admitted\n",
       "93  False  False  A  False       0.0\n",
       "29   True  False  D  False       0.0\n",
       "41   True  False  D  False       0.0\n",
       "74   True  False  A  False       0.0\n",
       "64   True   True  A   True       0.0\n",
       "..    ...    ... ..    ...       ...\n",
       "20   True  False  D  False       0.0\n",
       "47   True   True  D   True       0.0\n",
       "48  False  False  D  False       0.0\n",
       "75   True   True  A   True       0.0\n",
       "40  False   True  D  False       0.0\n",
       "\n",
       "[100 rows x 5 columns]"
      ]
     },
     "execution_count": 27,
     "metadata": {},
     "output_type": "execute_result"
    }
   ],
   "source": [
    "#create the new dataframe with an increased probD - bias mitigation approach\n",
    "biasmit_df = genDf(probA=0.6667, probD= 0.5)\n",
    "biasmit_df"
   ]
  },
  {
   "cell_type": "code",
   "execution_count": 39,
   "metadata": {},
   "outputs": [
    {
     "data": {
      "text/html": [
       "<div>\n",
       "<style scoped>\n",
       "    .dataframe tbody tr th:only-of-type {\n",
       "        vertical-align: middle;\n",
       "    }\n",
       "\n",
       "    .dataframe tbody tr th {\n",
       "        vertical-align: top;\n",
       "    }\n",
       "\n",
       "    .dataframe thead th {\n",
       "        text-align: right;\n",
       "    }\n",
       "</style>\n",
       "<table border=\"1\" class=\"dataframe\">\n",
       "  <thead>\n",
       "    <tr style=\"text-align: right;\">\n",
       "      <th></th>\n",
       "      <th>x1</th>\n",
       "      <th>x2</th>\n",
       "      <th>G</th>\n",
       "      <th>f</th>\n",
       "      <th>admitted</th>\n",
       "    </tr>\n",
       "  </thead>\n",
       "  <tbody>\n",
       "    <tr>\n",
       "      <th>95</th>\n",
       "      <td>True</td>\n",
       "      <td>False</td>\n",
       "      <td>D</td>\n",
       "      <td>False</td>\n",
       "      <td>0.0</td>\n",
       "    </tr>\n",
       "    <tr>\n",
       "      <th>30</th>\n",
       "      <td>True</td>\n",
       "      <td>False</td>\n",
       "      <td>D</td>\n",
       "      <td>False</td>\n",
       "      <td>0.0</td>\n",
       "    </tr>\n",
       "    <tr>\n",
       "      <th>9</th>\n",
       "      <td>False</td>\n",
       "      <td>False</td>\n",
       "      <td>D</td>\n",
       "      <td>False</td>\n",
       "      <td>0.0</td>\n",
       "    </tr>\n",
       "    <tr>\n",
       "      <th>2</th>\n",
       "      <td>True</td>\n",
       "      <td>True</td>\n",
       "      <td>D</td>\n",
       "      <td>True</td>\n",
       "      <td>0.0</td>\n",
       "    </tr>\n",
       "    <tr>\n",
       "      <th>19</th>\n",
       "      <td>False</td>\n",
       "      <td>False</td>\n",
       "      <td>D</td>\n",
       "      <td>False</td>\n",
       "      <td>0.0</td>\n",
       "    </tr>\n",
       "    <tr>\n",
       "      <th>...</th>\n",
       "      <td>...</td>\n",
       "      <td>...</td>\n",
       "      <td>...</td>\n",
       "      <td>...</td>\n",
       "      <td>...</td>\n",
       "    </tr>\n",
       "    <tr>\n",
       "      <th>72</th>\n",
       "      <td>False</td>\n",
       "      <td>True</td>\n",
       "      <td>D</td>\n",
       "      <td>False</td>\n",
       "      <td>0.0</td>\n",
       "    </tr>\n",
       "    <tr>\n",
       "      <th>11</th>\n",
       "      <td>True</td>\n",
       "      <td>False</td>\n",
       "      <td>A</td>\n",
       "      <td>False</td>\n",
       "      <td>0.0</td>\n",
       "    </tr>\n",
       "    <tr>\n",
       "      <th>78</th>\n",
       "      <td>False</td>\n",
       "      <td>False</td>\n",
       "      <td>D</td>\n",
       "      <td>False</td>\n",
       "      <td>0.0</td>\n",
       "    </tr>\n",
       "    <tr>\n",
       "      <th>24</th>\n",
       "      <td>False</td>\n",
       "      <td>False</td>\n",
       "      <td>D</td>\n",
       "      <td>False</td>\n",
       "      <td>0.0</td>\n",
       "    </tr>\n",
       "    <tr>\n",
       "      <th>58</th>\n",
       "      <td>True</td>\n",
       "      <td>True</td>\n",
       "      <td>A</td>\n",
       "      <td>True</td>\n",
       "      <td>0.0</td>\n",
       "    </tr>\n",
       "  </tbody>\n",
       "</table>\n",
       "<p>100 rows × 5 columns</p>\n",
       "</div>"
      ],
      "text/plain": [
       "       x1     x2  G      f  admitted\n",
       "95   True  False  D  False       0.0\n",
       "30   True  False  D  False       0.0\n",
       "9   False  False  D  False       0.0\n",
       "2    True   True  D   True       0.0\n",
       "19  False  False  D  False       0.0\n",
       "..    ...    ... ..    ...       ...\n",
       "72  False   True  D  False       0.0\n",
       "11   True  False  A  False       0.0\n",
       "78  False  False  D  False       0.0\n",
       "24  False  False  D  False       0.0\n",
       "58   True   True  A   True       0.0\n",
       "\n",
       "[100 rows x 5 columns]"
      ]
     },
     "execution_count": 39,
     "metadata": {},
     "output_type": "execute_result"
    }
   ],
   "source": [
    "#can also change social mobility parameters probMoveUp and probMoveDown if desired\n",
    "nextGeneration(biasmit_df, probA= 0.6667, probD= 0.5, probMoveUp = 0.5, probMoveDown= 0.25)"
   ]
  },
  {
   "cell_type": "code",
   "execution_count": null,
   "metadata": {},
   "outputs": [],
   "source": []
  }
 ],
 "metadata": {
  "colab": {
   "provenance": []
  },
  "kernelspec": {
   "display_name": "Python 3 (ipykernel)",
   "language": "python",
   "name": "python3"
  },
  "language_info": {
   "codemirror_mode": {
    "name": "ipython",
    "version": 3
   },
   "file_extension": ".py",
   "mimetype": "text/x-python",
   "name": "python",
   "nbconvert_exporter": "python",
   "pygments_lexer": "ipython3",
   "version": "3.11.4"
  }
 },
 "nbformat": 4,
 "nbformat_minor": 1
}
